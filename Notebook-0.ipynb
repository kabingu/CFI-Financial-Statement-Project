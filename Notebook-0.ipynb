{
    "metadata": {
        "kernelspec": {
            "name": "SQL",
            "display_name": "SQL",
            "language": "sql"
        },
        "language_info": {
            "name": "sql",
            "version": ""
        }
    },
    "nbformat_minor": 2,
    "nbformat": 4,
    "cells": [
        {
            "cell_type": "code",
            "source": [
                "SELECT \n",
                "    -- Data from fact table \n",
                "    gl.FactGLTranID,\n",
                "    gl.GLTranAmount,\n",
                "    gl.JournalID,\n",
                "    gl.GLTranDescription,\n",
                "    gl.GLTranDate, \n",
                "\n",
                "\n",
                "    -- Accounts Data\n",
                "    acc.AlternateKey \"GLAcctNum\",\n",
                "    acc.GLAcctName,\n",
                "    acc.Statement,\n",
                "    acc.Category,\n",
                "    acc.Subcategory,\n",
                "\n",
                "    -- stores \n",
                "    sto.AlternateKey 'StoreNum',\n",
                "    sto.StoreName,\n",
                "    sto.ManagerID,\n",
                "    sto.PreviousManagerID,\n",
                "    sto.ContactTel,\n",
                "    sto.AddressLine1,\n",
                "    sto.AddressLine2, \n",
                "    sto.ZipCode,\n",
                "\n",
                "    -- region\n",
                "    reg.AlternateKey 'RegionNum',\n",
                "    reg.RegionName,\n",
                "    reg.SalesRegionName,\n",
                "\n",
                "    -- Last Refresh Date \n",
                "    CONVERT(datetime2, GETDATE() at time zone 'UTC' at time zone 'Central Standard Time') AS LastRefreshDate\n",
                "\n",
                "FROM FactGLTran AS gl \n",
                "    INNER JOIN dimGLAcct AS acc ON gl.GLAcctID = acc.GLAcctID \n",
                "    INNER JOIN dimStore AS sto ON gl.StoreID = sto.StoreID \n",
                "    INNER JOIN dimRegion AS reg ON sto.RegionID = reg.RegionID"
            ],
            "metadata": {
                "azdata_cell_guid": "ccd4ea9f-722a-4bae-899a-709d04081103",
                "language": "sql"
            },
            "outputs": [],
            "execution_count": null
        }
    ]
}